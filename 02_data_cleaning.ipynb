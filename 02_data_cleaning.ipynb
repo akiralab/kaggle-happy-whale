{
 "cells": [
  {
   "cell_type": "markdown",
   "id": "52605746-f704-4a60-832c-6815ae1d5fc9",
   "metadata": {},
   "source": [
    "# 02. DataCleaning"
   ]
  },
  {
   "cell_type": "markdown",
   "id": "2a15efe8-747e-4eca-b8e1-be4f8e044b3b",
   "metadata": {},
   "source": [
    "### `train.csv`を更新する\n",
    "- typoの更新（kiler_whale -> killer_whale）\n",
    "- typoの更新（bottlenose_dolpin -> bottlenose_dolphin）\n",
    "- whale, dolphinのclass追加\n",
    "- imageのhight, weightclassの追加\n",
    "- (できそうであれば)RGBのmean, max, minの数字を追加\n",
    "- (できそうであれば)簡易的にsegmentationした場合の背景のBGR値とobjectのBGR値"
   ]
  },
  {
   "cell_type": "code",
   "execution_count": 1,
   "id": "6a0aa884-1ef8-420c-9e2d-7a68099b431c",
   "metadata": {},
   "outputs": [],
   "source": [
    "import pandas as pd\n",
    "import matplotlib.pyplot as plt\n",
    "import numpy as np\n",
    "import seaborn as sns\n",
    "import os\n",
    "import cv2"
   ]
  },
  {
   "cell_type": "markdown",
   "id": "fbf8b11c-8af0-462c-8d7f-8ac8690cf74e",
   "metadata": {},
   "source": [
    "### 1. typoの更新(kiler_whale, killer_whale)"
   ]
  },
  {
   "cell_type": "code",
   "execution_count": 2,
   "id": "1da56cb6-46a5-4443-8814-a9425fde3bc1",
   "metadata": {},
   "outputs": [
    {
     "name": "stdout",
     "output_type": "stream",
     "text": [
      "['melon_headed_whale' 'humpback_whale' 'false_killer_whale'\n",
      " 'bottlenose_dolphin' 'beluga' 'minke_whale' 'fin_whale' 'blue_whale'\n",
      " 'gray_whale' 'southern_right_whale' 'common_dolphin' 'kiler_whale'\n",
      " 'pilot_whale' 'dusky_dolphin' 'killer_whale' 'long_finned_pilot_whale'\n",
      " 'sei_whale' 'spinner_dolphin' 'bottlenose_dolpin' 'cuviers_beaked_whale'\n",
      " 'spotted_dolphin' 'globis' 'brydes_whale' 'commersons_dolphin'\n",
      " 'white_sided_dolphin' 'short_finned_pilot_whale' 'rough_toothed_dolphin'\n",
      " 'pantropic_spotted_dolphin' 'pygmy_killer_whale' 'frasiers_dolphin']\n"
     ]
    }
   ],
   "source": [
    "base_path = 'res/'\n",
    "# base_path = '/kaggle/input/happy-whale-and-dolphin/'\n",
    "\n",
    "train_df = pd.read_csv(base_path+'train.csv')\n",
    "print(train_df['species'].unique())"
   ]
  },
  {
   "cell_type": "code",
   "execution_count": 3,
   "id": "d367158e-daa0-49fa-9994-e434d0f2fc7a",
   "metadata": {},
   "outputs": [],
   "source": [
    "train_df['species'] = train_df['species'].str.replace('bottlenose_dolpin','bottlenose_dolphin')\n",
    "train_df['species'] = train_df['species'].str.replace('kiler_whale','killer_whale')\n",
    "train_df[\"species\"].replace({\"beluga\": \"beluga_whale\", \"globis\": \"globis_whale\"}, inplace=True)"
   ]
  },
  {
   "cell_type": "code",
   "execution_count": 4,
   "id": "e9de43a5-d23b-4c09-92cf-b50f536483a7",
   "metadata": {},
   "outputs": [
    {
     "data": {
      "text/plain": [
       "array(['melon_headed_whale', 'humpback_whale', 'false_killer_whale',\n",
       "       'bottlenose_dolphin', 'beluga_whale', 'minke_whale', 'fin_whale',\n",
       "       'blue_whale', 'gray_whale', 'southern_right_whale',\n",
       "       'common_dolphin', 'killer_whale', 'pilot_whale', 'dusky_dolphin',\n",
       "       'long_finned_pilot_whale', 'sei_whale', 'spinner_dolphin',\n",
       "       'cuviers_beaked_whale', 'spotted_dolphin', 'globis_whale',\n",
       "       'brydes_whale', 'commersons_dolphin', 'white_sided_dolphin',\n",
       "       'short_finned_pilot_whale', 'rough_toothed_dolphin',\n",
       "       'pantropic_spotted_dolphin', 'pygmy_killer_whale',\n",
       "       'frasiers_dolphin'], dtype=object)"
      ]
     },
     "execution_count": 4,
     "metadata": {},
     "output_type": "execute_result"
    }
   ],
   "source": [
    "train_df['species'].unique()"
   ]
  },
  {
   "cell_type": "code",
   "execution_count": 5,
   "id": "84393d34-0200-4684-8b64-21c00333035b",
   "metadata": {},
   "outputs": [],
   "source": [
    "# creating a new column \n",
    "train_df['label'] = train_df.species.map(lambda x: 'dolphin' if 'dolphin' in x else 'whale')"
   ]
  },
  {
   "cell_type": "code",
   "execution_count": 6,
   "id": "ca3def43-e138-4310-b8b7-80cd7dee438e",
   "metadata": {},
   "outputs": [
    {
     "data": {
      "text/html": [
       "<div>\n",
       "<style scoped>\n",
       "    .dataframe tbody tr th:only-of-type {\n",
       "        vertical-align: middle;\n",
       "    }\n",
       "\n",
       "    .dataframe tbody tr th {\n",
       "        vertical-align: top;\n",
       "    }\n",
       "\n",
       "    .dataframe thead th {\n",
       "        text-align: right;\n",
       "    }\n",
       "</style>\n",
       "<table border=\"1\" class=\"dataframe\">\n",
       "  <thead>\n",
       "    <tr style=\"text-align: right;\">\n",
       "      <th></th>\n",
       "      <th>image</th>\n",
       "      <th>species</th>\n",
       "      <th>individual_id</th>\n",
       "      <th>label</th>\n",
       "    </tr>\n",
       "  </thead>\n",
       "  <tbody>\n",
       "    <tr>\n",
       "      <th>0</th>\n",
       "      <td>00021adfb725ed.jpg</td>\n",
       "      <td>melon_headed_whale</td>\n",
       "      <td>cadddb1636b9</td>\n",
       "      <td>whale</td>\n",
       "    </tr>\n",
       "    <tr>\n",
       "      <th>1</th>\n",
       "      <td>000562241d384d.jpg</td>\n",
       "      <td>humpback_whale</td>\n",
       "      <td>1a71fbb72250</td>\n",
       "      <td>whale</td>\n",
       "    </tr>\n",
       "    <tr>\n",
       "      <th>2</th>\n",
       "      <td>0007c33415ce37.jpg</td>\n",
       "      <td>false_killer_whale</td>\n",
       "      <td>60008f293a2b</td>\n",
       "      <td>whale</td>\n",
       "    </tr>\n",
       "    <tr>\n",
       "      <th>3</th>\n",
       "      <td>0007d9bca26a99.jpg</td>\n",
       "      <td>bottlenose_dolphin</td>\n",
       "      <td>4b00fe572063</td>\n",
       "      <td>dolphin</td>\n",
       "    </tr>\n",
       "    <tr>\n",
       "      <th>4</th>\n",
       "      <td>00087baf5cef7a.jpg</td>\n",
       "      <td>humpback_whale</td>\n",
       "      <td>8e5253662392</td>\n",
       "      <td>whale</td>\n",
       "    </tr>\n",
       "  </tbody>\n",
       "</table>\n",
       "</div>"
      ],
      "text/plain": [
       "                image             species individual_id    label\n",
       "0  00021adfb725ed.jpg  melon_headed_whale  cadddb1636b9    whale\n",
       "1  000562241d384d.jpg      humpback_whale  1a71fbb72250    whale\n",
       "2  0007c33415ce37.jpg  false_killer_whale  60008f293a2b    whale\n",
       "3  0007d9bca26a99.jpg  bottlenose_dolphin  4b00fe572063  dolphin\n",
       "4  00087baf5cef7a.jpg      humpback_whale  8e5253662392    whale"
      ]
     },
     "execution_count": 6,
     "metadata": {},
     "output_type": "execute_result"
    }
   ],
   "source": [
    "train_df.head()"
   ]
  },
  {
   "cell_type": "code",
   "execution_count": 7,
   "id": "c76b11f8-8ba3-4251-a8e6-2a978f40ce19",
   "metadata": {},
   "outputs": [
    {
     "data": {
      "text/html": [
       "<div>\n",
       "<style scoped>\n",
       "    .dataframe tbody tr th:only-of-type {\n",
       "        vertical-align: middle;\n",
       "    }\n",
       "\n",
       "    .dataframe tbody tr th {\n",
       "        vertical-align: top;\n",
       "    }\n",
       "\n",
       "    .dataframe thead th {\n",
       "        text-align: right;\n",
       "    }\n",
       "</style>\n",
       "<table border=\"1\" class=\"dataframe\">\n",
       "  <thead>\n",
       "    <tr style=\"text-align: right;\">\n",
       "      <th></th>\n",
       "      <th>image</th>\n",
       "      <th>predictions</th>\n",
       "    </tr>\n",
       "  </thead>\n",
       "  <tbody>\n",
       "    <tr>\n",
       "      <th>0</th>\n",
       "      <td>000110707af0ba.jpg</td>\n",
       "      <td>37c7aba965a5 114207cab555 a6e325d8e924 19fbb96...</td>\n",
       "    </tr>\n",
       "    <tr>\n",
       "      <th>1</th>\n",
       "      <td>0006287ec424cb.jpg</td>\n",
       "      <td>37c7aba965a5 114207cab555 a6e325d8e924 19fbb96...</td>\n",
       "    </tr>\n",
       "    <tr>\n",
       "      <th>2</th>\n",
       "      <td>000809ecb2ccad.jpg</td>\n",
       "      <td>37c7aba965a5 114207cab555 a6e325d8e924 19fbb96...</td>\n",
       "    </tr>\n",
       "    <tr>\n",
       "      <th>3</th>\n",
       "      <td>00098d1376dab2.jpg</td>\n",
       "      <td>37c7aba965a5 114207cab555 a6e325d8e924 19fbb96...</td>\n",
       "    </tr>\n",
       "    <tr>\n",
       "      <th>4</th>\n",
       "      <td>000b8d89c738bd.jpg</td>\n",
       "      <td>37c7aba965a5 114207cab555 a6e325d8e924 19fbb96...</td>\n",
       "    </tr>\n",
       "  </tbody>\n",
       "</table>\n",
       "</div>"
      ],
      "text/plain": [
       "                image                                        predictions\n",
       "0  000110707af0ba.jpg  37c7aba965a5 114207cab555 a6e325d8e924 19fbb96...\n",
       "1  0006287ec424cb.jpg  37c7aba965a5 114207cab555 a6e325d8e924 19fbb96...\n",
       "2  000809ecb2ccad.jpg  37c7aba965a5 114207cab555 a6e325d8e924 19fbb96...\n",
       "3  00098d1376dab2.jpg  37c7aba965a5 114207cab555 a6e325d8e924 19fbb96...\n",
       "4  000b8d89c738bd.jpg  37c7aba965a5 114207cab555 a6e325d8e924 19fbb96..."
      ]
     },
     "execution_count": 7,
     "metadata": {},
     "output_type": "execute_result"
    }
   ],
   "source": [
    "test_df = pd.read_csv('sample_submission.csv')\n",
    "test_df.head()"
   ]
  },
  {
   "cell_type": "markdown",
   "id": "45f6662a-bd2a-4bc2-a9e6-619abea58c82",
   "metadata": {},
   "source": [
    "### height, widthを追加する"
   ]
  },
  {
   "cell_type": "code",
   "execution_count": 8,
   "id": "d2a7b7e7-b121-4f10-ae84-65862d1208ac",
   "metadata": {},
   "outputs": [],
   "source": [
    "from tqdm import tqdm as tqdm\n",
    "import imagesize\n",
    "\n",
    "def get_imgsize_train(row):\n",
    "    \n",
    "    image_path = os.path.join('res/train_images', row['image'])    \n",
    "    row['width'], row['height'] = imagesize.get(image_path) \n",
    "    # row['width'], row['height'], _ = image.shape\n",
    "    image = np.array(cv2.imread(image_path))\n",
    "    for p in [0, 5, 10, 25, 50, 75, 90, 100]:\n",
    "    # for p in [10, 25, 50, 75]:\n",
    "        row['p_{}_B'.format(p)], row['p_{}_G'.format(p)], row['p_{}_R'.format(p)] = np.percentile(image, p, axis=(0, 1))\n",
    "\n",
    "    return row\n",
    "\n",
    "def get_imgsize_test(row):\n",
    "    \n",
    "    image_path = os.path.join('res/test_images', row['image'])    \n",
    "    row['width'], row['height'] = imagesize.get(image_path) \n",
    "    image = cv2.imread(image_path)\n",
    "    image = np.array(image)\n",
    "    for p in [0, 5, 10, 25, 50, 75, 90, 100]:\n",
    "    # for p in [10, 25, 50, 75]:\n",
    "        row['p_{}_B'.format(p)], row['p_{}_G'.format(p)], row['p_{}_R'.format(p)] = np.percentile(image, p, axis=(0, 1))\n",
    "\n",
    "    return row"
   ]
  },
  {
   "cell_type": "code",
   "execution_count": 9,
   "id": "d1a633b3-51a1-446f-bf36-6f3eae86b2c2",
   "metadata": {},
   "outputs": [
    {
     "name": "stderr",
     "output_type": "stream",
     "text": [
      "Train : 100%|██████████| 51033/51033 [18:33:20<00:00,  1.31s/it]   \n",
      "Test : 100%|██████████| 27956/27956 [10:08:52<00:00,  1.31s/it]  \n"
     ]
    }
   ],
   "source": [
    "# Train\n",
    "tqdm.pandas(desc='Train ')\n",
    "train_df = train_df.progress_apply(get_imgsize_train, axis=1)\n",
    "train_df.to_csv('updated_train.csv', index=False)\n",
    "# Test\n",
    "tqdm.pandas(desc='Test ')\n",
    "test_df = test_df.progress_apply(get_imgsize_test, axis=1)\n",
    "test_df.to_csv('updated_test.csv', index=False)# test_df = test_df.progress_apply(get_imgsize, axis=1)\n"
   ]
  },
  {
   "cell_type": "code",
   "execution_count": 10,
   "id": "3dca7a16-3eef-45ca-8149-5e451e4b937d",
   "metadata": {},
   "outputs": [],
   "source": [
    "# train_df.to_csv('updated_train.csv', index=False)\n",
    "# test_df.to_csv('updated_test.csv', index=False)"
   ]
  },
  {
   "cell_type": "code",
   "execution_count": null,
   "id": "e84a88f0-23fe-40d2-adf1-88990357e0de",
   "metadata": {},
   "outputs": [],
   "source": []
  },
  {
   "cell_type": "code",
   "execution_count": null,
   "id": "ce854ec8-dfd5-4127-9b16-f7a4fe69d508",
   "metadata": {},
   "outputs": [],
   "source": []
  },
  {
   "cell_type": "code",
   "execution_count": null,
   "id": "f270217a-3a0f-41ff-8bc3-aa9759e7f1f4",
   "metadata": {},
   "outputs": [],
   "source": []
  },
  {
   "cell_type": "code",
   "execution_count": null,
   "id": "be80c089-e058-4a99-b3dc-dffcc009dd64",
   "metadata": {},
   "outputs": [],
   "source": []
  },
  {
   "cell_type": "code",
   "execution_count": null,
   "id": "4fb1c4a3-4f90-47b6-8bdd-ab1cf5b228ad",
   "metadata": {},
   "outputs": [],
   "source": []
  }
 ],
 "metadata": {
  "kernelspec": {
   "display_name": "Python 3",
   "language": "python",
   "name": "python3"
  },
  "language_info": {
   "codemirror_mode": {
    "name": "ipython",
    "version": 3
   },
   "file_extension": ".py",
   "mimetype": "text/x-python",
   "name": "python",
   "nbconvert_exporter": "python",
   "pygments_lexer": "ipython3",
   "version": "3.8.9"
  }
 },
 "nbformat": 4,
 "nbformat_minor": 5
}
