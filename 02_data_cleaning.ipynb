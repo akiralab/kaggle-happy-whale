{
 "cells": [
  {
   "cell_type": "markdown",
   "id": "52605746-f704-4a60-832c-6815ae1d5fc9",
   "metadata": {},
   "source": [
    "# 02. DataCleaning"
   ]
  },
  {
   "cell_type": "markdown",
   "id": "2a15efe8-747e-4eca-b8e1-be4f8e044b3b",
   "metadata": {},
   "source": [
    "### `train.csv`を更新する\n",
    "- typoの更新（kiler_whale -> killer_whale）\n",
    "- typoの更新（bottlenose_dolpin -> bottlenose_dolphin）\n",
    "- whale, dolphinのclass追加\n",
    "- imageのhight, weightclassの追加\n",
    "- (できそうであれば)RGBのmean, max, minの数字を追加\n",
    "- (できそうであれば)簡易的にsegmentationした場合の背景のBGR値とobjectのBGR値"
   ]
  },
  {
   "cell_type": "code",
   "execution_count": 3,
   "id": "6a0aa884-1ef8-420c-9e2d-7a68099b431c",
   "metadata": {},
   "outputs": [],
   "source": [
    "import pandas as pd\n",
    "import matplotlib.pyplot as plt\n",
    "import numpy as np\n",
    "import seaborn as sns\n",
    "import os"
   ]
  },
  {
   "cell_type": "markdown",
   "id": "fbf8b11c-8af0-462c-8d7f-8ac8690cf74e",
   "metadata": {},
   "source": [
    "### 1. typoの更新(kiler_whale, killer_whale)"
   ]
  },
  {
   "cell_type": "code",
   "execution_count": 8,
   "id": "1da56cb6-46a5-4443-8814-a9425fde3bc1",
   "metadata": {},
   "outputs": [
    {
     "name": "stdout",
     "output_type": "stream",
     "text": [
      "['melon_headed_whale' 'humpback_whale' 'false_killer_whale'\n",
      " 'bottlenose_dolphin' 'beluga' 'minke_whale' 'fin_whale' 'blue_whale'\n",
      " 'gray_whale' 'southern_right_whale' 'common_dolphin' 'kiler_whale'\n",
      " 'pilot_whale' 'dusky_dolphin' 'killer_whale' 'long_finned_pilot_whale'\n",
      " 'sei_whale' 'spinner_dolphin' 'bottlenose_dolpin' 'cuviers_beaked_whale'\n",
      " 'spotted_dolphin' 'globis' 'brydes_whale' 'commersons_dolphin'\n",
      " 'white_sided_dolphin' 'short_finned_pilot_whale' 'rough_toothed_dolphin'\n",
      " 'pantropic_spotted_dolphin' 'pygmy_killer_whale' 'frasiers_dolphin']\n"
     ]
    }
   ],
   "source": [
    "train_df = pd.read_csv('res/train.csv')\n",
    "print(train_df['species'].unique())\n",
    "\n",
    "train_df['species'].replace({}"
   ]
  },
  {
   "cell_type": "code",
   "execution_count": null,
   "id": "d367158e-daa0-49fa-9994-e434d0f2fc7a",
   "metadata": {},
   "outputs": [],
   "source": []
  }
 ],
 "metadata": {
  "kernelspec": {
   "display_name": "Python 3",
   "language": "python",
   "name": "python3"
  },
  "language_info": {
   "codemirror_mode": {
    "name": "ipython",
    "version": 3
   },
   "file_extension": ".py",
   "mimetype": "text/x-python",
   "name": "python",
   "nbconvert_exporter": "python",
   "pygments_lexer": "ipython3",
   "version": "3.8.9"
  }
 },
 "nbformat": 4,
 "nbformat_minor": 5
}
